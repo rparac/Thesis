{
 "cells": [
  {
   "cell_type": "markdown",
   "source": [
    "Draws a dependency graph from a sentence"
   ],
   "metadata": {
    "collapsed": false
   }
  },
  {
   "cell_type": "code",
   "execution_count": 1,
   "id": "severe-grant",
   "metadata": {},
   "outputs": [
    {
     "name": "stderr",
     "output_type": "stream",
     "text": [
      "2022-06-23 12:03:41.979780: W tensorflow/stream_executor/platform/default/dso_loader.cc:64] Could not load dynamic library 'libcudart.so.11.0'; dlerror: libcudart.so.11.0: cannot open shared object file: No such file or directory\n",
      "2022-06-23 12:03:41.979800: I tensorflow/stream_executor/cuda/cudart_stub.cc:29] Ignore above cudart dlerror if you do not have a GPU set up on your machine.\n"
     ]
    }
   ],
   "source": [
    "import spacy"
   ]
  },
  {
   "cell_type": "code",
   "execution_count": null,
   "id": "olympic-double",
   "metadata": {
    "pycharm": {
     "is_executing": true
    }
   },
   "outputs": [],
   "source": [
    "# if you haven't done so already you will need to load the models, e.g.\n",
    "#!python3 -m spacy download en_core_web_trf\n",
    "\n",
    "nlp = spacy.load(\"en_core_web_trf\")\n",
    "#nlp = spacy.load('en_core_web_lg')"
   ]
  },
  {
   "cell_type": "code",
   "execution_count": null,
   "id": "fifty-ghost",
   "metadata": {
    "pycharm": {
     "is_executing": true
    }
   },
   "outputs": [],
   "source": [
    "doc1 = nlp(\"the batter swung and missed\")\n",
    "doc2 = nlp(\"it is a foul ball\")\n",
    "\n",
    "spacy.displacy.render(doc2, style='dep')\n",
    "spacy.displacy.render(doc1, style='dep')"
   ]
  },
  {
   "cell_type": "code",
   "execution_count": null,
   "id": "940daadf",
   "metadata": {
    "pycharm": {
     "is_executing": true
    }
   },
   "outputs": [],
   "source": [
    "# from pathlib import Path\n",
    "# import os\n",
    "\n",
    "# doc = nlp(\"it is a foul ball\")\n",
    "\n",
    "# svg = spacy.displacy.render(doc, style=\"dep\", jupyter=False)\n",
    "# output_path = Path(os.path.join(\"./\", \"worse-extraction.svg\"))\n",
    "# output_path.open('w', encoding=\"utf-8\").write(svg)"
   ]
  }
 ],
 "metadata": {
  "kernelspec": {
   "name": "python3",
   "language": "python",
   "display_name": "Python 3 (ipykernel)"
  },
  "language_info": {
   "codemirror_mode": {
    "name": "ipython",
    "version": 3
   },
   "file_extension": ".py",
   "mimetype": "text/x-python",
   "name": "python",
   "nbconvert_exporter": "python",
   "pygments_lexer": "ipython3",
   "version": "3.8.10"
  }
 },
 "nbformat": 4,
 "nbformat_minor": 5
}