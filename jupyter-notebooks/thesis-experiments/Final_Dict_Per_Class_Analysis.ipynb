{
 "cells": [
  {
   "cell_type": "markdown",
   "source": [
    "Analyses how many conflicting combinations from combinations to examples exist"
   ],
   "metadata": {
    "collapsed": false,
    "pycharm": {
     "name": "#%% md\n"
    }
   }
  },
  {
   "cell_type": "code",
   "execution_count": 1,
   "metadata": {
    "collapsed": true
   },
   "outputs": [
    {
     "name": "stdout",
     "output_type": "stream",
     "text": [
      "                                    id   label  \\\n",
      "0               Artic_Tern_0024_143268    bird   \n",
      "1     Northern_Waterthrush_0084_177239    bird   \n",
      "2              Common_Tern_0067_149540    bird   \n",
      "3               Horned_Lark_0012_74511    bird   \n",
      "4          Northern_Flicker_0006_28290    bird   \n",
      "...                                ...     ...   \n",
      "1995                       image_00479  flower   \n",
      "1996                       image_08137  flower   \n",
      "1997                       image_04682  flower   \n",
      "1998                       image_00690  flower   \n",
      "1999                       image_02314  flower   \n",
      "\n",
      "                                               concepts  \n",
      "0     [0, 0, 0, 1, 0, 0, 0, 0, 0, 0, 0, 0, 1, 0, 0, ...  \n",
      "1     [0, 0, 0, 0, 0, 0, 0, 0, 0, 0, 0, 0, 0, 0, 0, ...  \n",
      "2     [0, 0, 0, 0, 0, 1, 0, 0, 0, 0, 0, 0, 0, 1, 0, ...  \n",
      "3     [0, 0, 0, 0, 1, 0, 0, 0, 0, 0, 0, 0, 0, 0, 0, ...  \n",
      "4     [0, 0, 0, 0, 0, 0, 0, 0, 0, 0, 0, 0, 0, 0, 0, ...  \n",
      "...                                                 ...  \n",
      "1995  [0, 0, 0, 0, 0, 0, 0, 0, 0, 0, 0, 0, 0, 0, 0, ...  \n",
      "1996  [1, 0, 0, 0, 0, 0, 0, 0, 0, 0, 0, 0, 0, 0, 0, ...  \n",
      "1997  [1, 0, 1, 0, 0, 0, 0, 0, 0, 0, 0, 0, 0, 0, 0, ...  \n",
      "1998  [1, 0, 1, 0, 0, 0, 0, 0, 0, 0, 0, 0, 0, 0, 0, ...  \n",
      "1999  [1, 0, 0, 0, 0, 0, 0, 0, 1, 0, 0, 0, 0, 0, 0, ...  \n",
      "\n",
      "[2000 rows x 3 columns]\n"
     ]
    }
   ],
   "source": [
    "import os\n",
    "from typing import List, Dict\n",
    "\n",
    "import numpy as np\n",
    "import pandas as pd\n",
    "\n",
    "project_dir = '/home/rp218/luke-for-roko'\n",
    "\n",
    "# ## Load Data\n",
    "\n",
    "# In[3]:\n",
    "\n",
    "\n",
    "# Parse the wrong format to the correct one\n",
    "# path = os.path.join(project_dir, \"Extracted_Concepts/final_dict_new_codex_no_pruning.pkl\")\n",
    "# path = os.path.join(project_dir, \"cmd/final_dict_old_codex.pkl\")\n",
    "path = os.path.join(project_dir, \"cmd/birds_flowers_final_dict_new_codex.pkl\")\n",
    "luke_output = pd.read_pickle(path)\n",
    "\n",
    "labels_keys = ['id', 'label', 'concepts']\n",
    "labels_dict = {key: luke_output[key] for key in labels_keys}\n",
    "labels_df_filtered = pd.DataFrame.from_dict(labels_dict)\n",
    "\n",
    "labels = labels_df_filtered.copy()\n",
    "print(labels_df_filtered)\n",
    "\n",
    "concepts_text = pd.DataFrame.from_dict({\"explanations\": luke_output[\"explanations\"]})"
   ]
  },
  {
   "cell_type": "code",
   "execution_count": 2,
   "outputs": [
    {
     "name": "stdout",
     "output_type": "stream",
     "text": [
      "2000\n"
     ]
    }
   ],
   "source": [
    "print(len(np.unique(luke_output['id'])))"
   ],
   "metadata": {
    "collapsed": false,
    "pycharm": {
     "name": "#%%\n"
    }
   }
  },
  {
   "cell_type": "code",
   "execution_count": 3,
   "outputs": [],
   "source": [
    "class ConceptCounter:\n",
    "    def __init__(self, labels: List[str]):\n",
    "        self.store = {}\n",
    "        self.labels = labels\n",
    "\n",
    "    def add_val(self, concepts: np.ndarray, label: str):\n",
    "        concepts = tuple(concepts)\n",
    "\n",
    "        curr = self.store.get(concepts, [0] * len(self.labels))\n",
    "        curr[self.labels.index(label)] += 1\n",
    "        self.store[concepts] = curr\n",
    "\n",
    "    def get(self) -> Dict[int, int]:\n",
    "        return self.store"
   ],
   "metadata": {
    "collapsed": false,
    "pycharm": {
     "name": "#%%\n"
    }
   }
  },
  {
   "cell_type": "code",
   "execution_count": 4,
   "outputs": [],
   "source": [
    "def pretty_print(cnt_arr: List[int], str_labels: List[str]):\n",
    "    vals = np.array(cnt_arr)\n",
    "    indices, = vals.nonzero()\n",
    "\n",
    "    print(\"Values: \", end=\"\")\n",
    "    for idx in indices:\n",
    "        print(f\"{str_labels[idx]}: {vals[idx]},\", end=\"\")\n",
    "    print()\n",
    "    print(f\"Results in at least {sum(vals) - max(vals)} incorrectly classified examples\")\n",
    "    print()"
   ],
   "metadata": {
    "collapsed": false,
    "pycharm": {
     "name": "#%%\n"
    }
   }
  },
  {
   "cell_type": "code",
   "execution_count": 7,
   "outputs": [
    {
     "name": "stdout",
     "output_type": "stream",
     "text": [
      "Running for bird\n",
      "Running for flower\n",
      "Conflict with combination (0, 0, 0, 0, 0, 0, 0, 0, 0, 0, 0, 0, 0, 0, 0, 0, 0, 0, 0, 0, 0, 0, 0, 0, 0, 0, 0, 0, 0, 0, 0, 0, 0, 0, 0, 0, 0, 0, 0, 0, 0, 0, 0, 0, 0, 0, 0, 0, 0, 0, 0, 0, 0, 0, 0, 0, 0, 0, 0, 0, 0, 0, 0, 0, 0, 0, 0, 0, 0, 0, 0, 0, 0, 0, 0, 0, 0, 0)\n",
      "Values: bird: 254,flower: 233,\n",
      "Results in at least 233 incorrectly classified examples\n",
      "\n",
      "Conflict with combination (0, 0, 0, 0, 0, 0, 0, 0, 0, 0, 0, 0, 0, 0, 0, 0, 0, 0, 0, 0, 0, 0, 0, 0, 0, 0, 0, 0, 0, 0, 0, 0, 0, 0, 0, 0, 0, 0, 1, 0, 0, 0, 0, 0, 0, 0, 0, 0, 0, 0, 0, 0, 0, 0, 0, 0, 0, 0, 0, 0, 0, 0, 0, 0, 0, 0, 0, 0, 0, 0, 0, 0, 0, 0, 0, 0, 0, 0)\n",
      "Values: bird: 11,flower: 2,\n",
      "Results in at least 2 incorrectly classified examples\n",
      "\n",
      "Conflict with combination (0, 0, 0, 0, 0, 0, 0, 0, 1, 0, 0, 0, 0, 0, 0, 0, 0, 0, 0, 0, 0, 0, 0, 0, 0, 0, 0, 0, 0, 0, 0, 0, 0, 0, 0, 0, 0, 0, 0, 0, 0, 0, 0, 0, 0, 0, 0, 0, 0, 0, 0, 0, 0, 0, 0, 0, 0, 0, 0, 0, 0, 0, 0, 0, 0, 0, 0, 0, 0, 0, 0, 0, 0, 0, 0, 0, 0, 0)\n",
      "Values: bird: 2,flower: 19,\n",
      "Results in at least 2 incorrectly classified examples\n",
      "\n",
      "Conflict with combination (0, 0, 0, 0, 0, 0, 0, 0, 0, 0, 0, 0, 0, 0, 0, 0, 0, 0, 0, 0, 0, 0, 0, 0, 0, 0, 0, 0, 0, 0, 0, 0, 0, 0, 0, 0, 0, 0, 0, 0, 0, 0, 0, 0, 0, 0, 0, 0, 0, 0, 0, 0, 0, 0, 0, 0, 0, 0, 1, 0, 0, 0, 0, 0, 0, 0, 0, 0, 0, 0, 0, 0, 0, 0, 0, 0, 0, 0)\n",
      "Values: bird: 4,flower: 1,\n",
      "Results in at least 1 incorrectly classified examples\n",
      "\n",
      "Total nubmer of examples which must be incorrectly classified\n",
      "238\n"
     ]
    }
   ],
   "source": [
    "test_labels = labels.iloc[:]\n",
    "\n",
    "str_labels = list(np.unique(test_labels.label))\n",
    "c_counter = ConceptCounter(str_labels)\n",
    "for label in str_labels:\n",
    "    print(f\"Running for {label}\")\n",
    "    out_df = test_labels[test_labels.label == label]\n",
    "    for concepts in out_df[\"concepts\"]:\n",
    "        c_counter.add_val(concepts, label)\n",
    "\n",
    "results = c_counter.get()\n",
    "conflicts = []\n",
    "for k, v in results.items():\n",
    "    vals = np.array(v)\n",
    "    indices, = vals.nonzero()\n",
    "    if len(indices) > 1:\n",
    "        incorrectly_classified_cnt = sum(vals) - max(vals)\n",
    "        conflicts.append(\n",
    "            {\"concept_combination\": k, \"count_arr\": vals, \"incorrectly_classified_cnt\": incorrectly_classified_cnt})\n",
    "\n",
    "for conflict in conflicts:\n",
    "    print(f\"Conflict with combination {conflict['concept_combination']}\")\n",
    "    pretty_print(conflict[\"count_arr\"], str_labels)\n",
    "\n",
    "print(\"Total nubmer of examples which must be incorrectly classified\")\n",
    "print(sum([conflict[\"incorrectly_classified_cnt\"] for conflict in conflicts]))"
   ],
   "metadata": {
    "collapsed": false,
    "pycharm": {
     "name": "#%%\n"
    }
   }
  }
 ],
 "metadata": {
  "kernelspec": {
   "display_name": "Python 3",
   "language": "python",
   "name": "python3"
  },
  "language_info": {
   "codemirror_mode": {
    "name": "ipython",
    "version": 2
   },
   "file_extension": ".py",
   "mimetype": "text/x-python",
   "name": "python",
   "nbconvert_exporter": "python",
   "pygments_lexer": "ipython2",
   "version": "2.7.6"
  }
 },
 "nbformat": 4,
 "nbformat_minor": 0
}