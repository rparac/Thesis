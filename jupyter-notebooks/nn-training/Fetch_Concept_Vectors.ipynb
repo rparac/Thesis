{
 "cells": [
  {
   "cell_type": "markdown",
   "source": [
    "Fetch concept vectors from a trained concepts.\n",
    "Can be used as input for the logic-based classification training/test"
   ],
   "metadata": {
    "collapsed": false,
    "pycharm": {
     "name": "#%% md\n"
    }
   }
  },
  {
   "cell_type": "code",
   "execution_count": 4,
   "metadata": {
    "collapsed": true
   },
   "outputs": [],
   "source": [
    "import pickle\n",
    "import subprocess\n",
    "\n",
    "from keras.backend import clear_session\n",
    "\n",
    "from nn.utils import *\n"
   ]
  },
  {
   "cell_type": "code",
   "execution_count": 5,
   "outputs": [],
   "source": [
    "project_dir = '/home/rp218/luke-for-roko'\n",
    "large_data_dir = f\"{project_dir}/Thesis_Data\"\n",
    "model_dir = f\"{large_data_dir}/Models\"\n",
    "FEATURE_EXTRACTOR = 'Resnet50V2'\n",
    "features_dir = f'{large_data_dir}/Feature_vectors_{FEATURE_EXTRACTOR}'"
   ],
   "metadata": {
    "collapsed": false,
    "pycharm": {
     "name": "#%%\n"
    }
   }
  },
  {
   "cell_type": "markdown",
   "source": [
    "## Load Data"
   ],
   "metadata": {
    "collapsed": false
   }
  },
  {
   "cell_type": "code",
   "execution_count": 6,
   "outputs": [
    {
     "data": {
      "text/plain": "                id label                                           concepts\n0     SP7Y6KCFF2TD   out  [0, 0, 0, 0, 0, 0, 0, 0, 0, 0, 0, 0, 0, 0, 0, ...\n1     LMH26GKJFGQW  play  [0, 0, 0, 0, 0, 0, 0, 0, 0, 0, 0, 0, 0, 0, 0, ...\n2     HST5K3C5L9WS  ball  [0, 0, 0, 1, 0, 0, 0, 0, 0, 0, 0, 0, 0, 0, 0, ...\n3     ZJ5T4M8F9USB  ball  [0, 0, 0, 0, 0, 0, 0, 0, 0, 0, 0, 0, 0, 0, 0, ...\n4     257MNU1H3O56  foul  [0, 0, 0, 0, 0, 0, 0, 0, 0, 0, 0, 0, 0, 0, 0, ...\n...            ...   ...                                                ...\n1915  ZDEUXDLTP1TL  play  [0, 0, 1, 0, 1, 0, 0, 1, 0, 0, 0, 0, 0, 0, 0, ...\n1916  863JKGRGLKMG  play  [0, 0, 1, 0, 1, 0, 0, 1, 0, 0, 0, 0, 0, 0, 0, ...\n1917  619MYTG7OTT0   out  [0, 0, 1, 0, 1, 0, 0, 0, 0, 0, 0, 0, 0, 0, 0, ...\n1918  BWJ683S12AE4  play  [0, 0, 1, 0, 1, 0, 0, 1, 0, 0, 0, 0, 0, 0, 0, ...\n1919  3SVC1ETTJ6S4  play  [0, 0, 1, 0, 0, 0, 0, 1, 0, 0, 0, 0, 0, 0, 0, ...\n\n[1920 rows x 3 columns]",
      "text/html": "<div>\n<style scoped>\n    .dataframe tbody tr th:only-of-type {\n        vertical-align: middle;\n    }\n\n    .dataframe tbody tr th {\n        vertical-align: top;\n    }\n\n    .dataframe thead th {\n        text-align: right;\n    }\n</style>\n<table border=\"1\" class=\"dataframe\">\n  <thead>\n    <tr style=\"text-align: right;\">\n      <th></th>\n      <th>id</th>\n      <th>label</th>\n      <th>concepts</th>\n    </tr>\n  </thead>\n  <tbody>\n    <tr>\n      <th>0</th>\n      <td>SP7Y6KCFF2TD</td>\n      <td>out</td>\n      <td>[0, 0, 0, 0, 0, 0, 0, 0, 0, 0, 0, 0, 0, 0, 0, ...</td>\n    </tr>\n    <tr>\n      <th>1</th>\n      <td>LMH26GKJFGQW</td>\n      <td>play</td>\n      <td>[0, 0, 0, 0, 0, 0, 0, 0, 0, 0, 0, 0, 0, 0, 0, ...</td>\n    </tr>\n    <tr>\n      <th>2</th>\n      <td>HST5K3C5L9WS</td>\n      <td>ball</td>\n      <td>[0, 0, 0, 1, 0, 0, 0, 0, 0, 0, 0, 0, 0, 0, 0, ...</td>\n    </tr>\n    <tr>\n      <th>3</th>\n      <td>ZJ5T4M8F9USB</td>\n      <td>ball</td>\n      <td>[0, 0, 0, 0, 0, 0, 0, 0, 0, 0, 0, 0, 0, 0, 0, ...</td>\n    </tr>\n    <tr>\n      <th>4</th>\n      <td>257MNU1H3O56</td>\n      <td>foul</td>\n      <td>[0, 0, 0, 0, 0, 0, 0, 0, 0, 0, 0, 0, 0, 0, 0, ...</td>\n    </tr>\n    <tr>\n      <th>...</th>\n      <td>...</td>\n      <td>...</td>\n      <td>...</td>\n    </tr>\n    <tr>\n      <th>1915</th>\n      <td>ZDEUXDLTP1TL</td>\n      <td>play</td>\n      <td>[0, 0, 1, 0, 1, 0, 0, 1, 0, 0, 0, 0, 0, 0, 0, ...</td>\n    </tr>\n    <tr>\n      <th>1916</th>\n      <td>863JKGRGLKMG</td>\n      <td>play</td>\n      <td>[0, 0, 1, 0, 1, 0, 0, 1, 0, 0, 0, 0, 0, 0, 0, ...</td>\n    </tr>\n    <tr>\n      <th>1917</th>\n      <td>619MYTG7OTT0</td>\n      <td>out</td>\n      <td>[0, 0, 1, 0, 1, 0, 0, 0, 0, 0, 0, 0, 0, 0, 0, ...</td>\n    </tr>\n    <tr>\n      <th>1918</th>\n      <td>BWJ683S12AE4</td>\n      <td>play</td>\n      <td>[0, 0, 1, 0, 1, 0, 0, 1, 0, 0, 0, 0, 0, 0, 0, ...</td>\n    </tr>\n    <tr>\n      <th>1919</th>\n      <td>3SVC1ETTJ6S4</td>\n      <td>play</td>\n      <td>[0, 0, 1, 0, 0, 0, 0, 1, 0, 0, 0, 0, 0, 0, 0, ...</td>\n    </tr>\n  </tbody>\n</table>\n<p>1920 rows × 3 columns</p>\n</div>"
     },
     "execution_count": 6,
     "metadata": {},
     "output_type": "execute_result"
    }
   ],
   "source": [
    "# Parse the wrong format to the correct one\n",
    "path = os.path.join(project_dir, \"Extracted_Concepts/final_dict_new_codex.pkl\")\n",
    "luke_output = pd.read_pickle(path)\n",
    "\n",
    "labels_keys = ['id', 'label', 'concepts']\n",
    "labels_dict = {key: luke_output[key] for key in labels_keys}\n",
    "labels_df_filtered = pd.DataFrame.from_dict(labels_dict)\n",
    "\n",
    "labels = labels_df_filtered.copy()\n",
    "labels_df_filtered\n"
   ],
   "metadata": {
    "collapsed": false,
    "pycharm": {
     "name": "#%%\n"
    }
   }
  },
  {
   "cell_type": "code",
   "execution_count": 7,
   "outputs": [
    {
     "name": "stdout",
     "output_type": "stream",
     "text": [
      "Id Technically not found\n",
      "(1919, 360, 2048)\n"
     ]
    },
    {
     "data": {
      "text/plain": "                id label                                           concepts\n0     SP7Y6KCFF2TD   out  [0, 0, 0, 0, 0, 0, 0, 0, 0, 0, 0, 0, 0, 0, 0, ...\n1     LMH26GKJFGQW  play  [0, 0, 0, 0, 0, 0, 0, 0, 0, 0, 0, 0, 0, 0, 0, ...\n2     HST5K3C5L9WS  ball  [0, 0, 0, 1, 0, 0, 0, 0, 0, 0, 0, 0, 0, 0, 0, ...\n3     ZJ5T4M8F9USB  ball  [0, 0, 0, 0, 0, 0, 0, 0, 0, 0, 0, 0, 0, 0, 0, ...\n4     257MNU1H3O56  foul  [0, 0, 0, 0, 0, 0, 0, 0, 0, 0, 0, 0, 0, 0, 0, ...\n...            ...   ...                                                ...\n1914  ZDEUXDLTP1TL  play  [0, 0, 1, 0, 1, 0, 0, 1, 0, 0, 0, 0, 0, 0, 0, ...\n1915  863JKGRGLKMG  play  [0, 0, 1, 0, 1, 0, 0, 1, 0, 0, 0, 0, 0, 0, 0, ...\n1916  619MYTG7OTT0   out  [0, 0, 1, 0, 1, 0, 0, 0, 0, 0, 0, 0, 0, 0, 0, ...\n1917  BWJ683S12AE4  play  [0, 0, 1, 0, 1, 0, 0, 1, 0, 0, 0, 0, 0, 0, 0, ...\n1918  3SVC1ETTJ6S4  play  [0, 0, 1, 0, 0, 0, 0, 1, 0, 0, 0, 0, 0, 0, 0, ...\n\n[1919 rows x 3 columns]",
      "text/html": "<div>\n<style scoped>\n    .dataframe tbody tr th:only-of-type {\n        vertical-align: middle;\n    }\n\n    .dataframe tbody tr th {\n        vertical-align: top;\n    }\n\n    .dataframe thead th {\n        text-align: right;\n    }\n</style>\n<table border=\"1\" class=\"dataframe\">\n  <thead>\n    <tr style=\"text-align: right;\">\n      <th></th>\n      <th>id</th>\n      <th>label</th>\n      <th>concepts</th>\n    </tr>\n  </thead>\n  <tbody>\n    <tr>\n      <th>0</th>\n      <td>SP7Y6KCFF2TD</td>\n      <td>out</td>\n      <td>[0, 0, 0, 0, 0, 0, 0, 0, 0, 0, 0, 0, 0, 0, 0, ...</td>\n    </tr>\n    <tr>\n      <th>1</th>\n      <td>LMH26GKJFGQW</td>\n      <td>play</td>\n      <td>[0, 0, 0, 0, 0, 0, 0, 0, 0, 0, 0, 0, 0, 0, 0, ...</td>\n    </tr>\n    <tr>\n      <th>2</th>\n      <td>HST5K3C5L9WS</td>\n      <td>ball</td>\n      <td>[0, 0, 0, 1, 0, 0, 0, 0, 0, 0, 0, 0, 0, 0, 0, ...</td>\n    </tr>\n    <tr>\n      <th>3</th>\n      <td>ZJ5T4M8F9USB</td>\n      <td>ball</td>\n      <td>[0, 0, 0, 0, 0, 0, 0, 0, 0, 0, 0, 0, 0, 0, 0, ...</td>\n    </tr>\n    <tr>\n      <th>4</th>\n      <td>257MNU1H3O56</td>\n      <td>foul</td>\n      <td>[0, 0, 0, 0, 0, 0, 0, 0, 0, 0, 0, 0, 0, 0, 0, ...</td>\n    </tr>\n    <tr>\n      <th>...</th>\n      <td>...</td>\n      <td>...</td>\n      <td>...</td>\n    </tr>\n    <tr>\n      <th>1914</th>\n      <td>ZDEUXDLTP1TL</td>\n      <td>play</td>\n      <td>[0, 0, 1, 0, 1, 0, 0, 1, 0, 0, 0, 0, 0, 0, 0, ...</td>\n    </tr>\n    <tr>\n      <th>1915</th>\n      <td>863JKGRGLKMG</td>\n      <td>play</td>\n      <td>[0, 0, 1, 0, 1, 0, 0, 1, 0, 0, 0, 0, 0, 0, 0, ...</td>\n    </tr>\n    <tr>\n      <th>1916</th>\n      <td>619MYTG7OTT0</td>\n      <td>out</td>\n      <td>[0, 0, 1, 0, 1, 0, 0, 0, 0, 0, 0, 0, 0, 0, 0, ...</td>\n    </tr>\n    <tr>\n      <th>1917</th>\n      <td>BWJ683S12AE4</td>\n      <td>play</td>\n      <td>[0, 0, 1, 0, 1, 0, 0, 1, 0, 0, 0, 0, 0, 0, 0, ...</td>\n    </tr>\n    <tr>\n      <th>1918</th>\n      <td>3SVC1ETTJ6S4</td>\n      <td>play</td>\n      <td>[0, 0, 1, 0, 0, 0, 0, 1, 0, 0, 0, 0, 0, 0, 0, ...</td>\n    </tr>\n  </tbody>\n</table>\n<p>1919 rows × 3 columns</p>\n</div>"
     },
     "execution_count": 7,
     "metadata": {},
     "output_type": "execute_result"
    }
   ],
   "source": [
    "try:\n",
    "    labels = pd.read_pickle('labels_100.pkl')\n",
    "    X = np.load('data.npy')\n",
    "\n",
    "except:\n",
    "\n",
    "    X = []\n",
    "    for id in labels_df_filtered['id']:\n",
    "        feature_path = os.path.join(features_dir, id + '.npy')\n",
    "        if os.path.isfile(feature_path):\n",
    "            X.append(np.load(feature_path).T)\n",
    "\n",
    "        else:\n",
    "            labels = labels[labels['id'] != id]\n",
    "            print(f\"Id {id} not found\")\n",
    "\n",
    "    labels = labels.reset_index(drop=True)\n",
    "    labels.to_pickle('labels_100.pkl')\n",
    "    X = np.stack(X, axis=0)\n",
    "    np.save('data.npy', X)\n",
    "\n",
    "print(X.shape)\n",
    "labels"
   ],
   "metadata": {
    "collapsed": false,
    "pycharm": {
     "name": "#%%\n"
    }
   }
  },
  {
   "cell_type": "code",
   "execution_count": 8,
   "outputs": [
    {
     "name": "stdout",
     "output_type": "stream",
     "text": [
      "(1919, 78)\n",
      "(1919, 5)\n",
      "(1700, 360, 2048)\n",
      "(1700, 5)\n",
      "(1700, 78)\n",
      "(219, 360, 2048)\n",
      "(219, 5)\n",
      "(219, 78)\n"
     ]
    }
   ],
   "source": [
    "concepts_text = pd.DataFrame.from_dict({\"explanations\": luke_output[\"explanations\"]})\n",
    "\n",
    "num_classes = 5\n",
    "classes = ['strike', 'ball', 'play', 'foul', 'out']\n",
    "n_concepts = 78\n",
    "\n",
    "class_dict = {\n",
    "    'strike': 0,\n",
    "    'ball': 1,\n",
    "    'play': 2,\n",
    "    'foul': 3,\n",
    "    'out': 4}\n",
    "\n",
    "inv_class_dict = {v: k for k, v in class_dict.items()}\n",
    "\n",
    "concept_matrix = labels['concepts'].values\n",
    "concept_matrix = np.stack(concept_matrix, axis=0)\n",
    "idx = np.argwhere(np.all(concept_matrix[..., :] == 0, axis=0))\n",
    "concept_matrix = np.delete(concept_matrix, idx, axis=1)\n",
    "concept_matrix = concept_matrix[:, :n_concepts]\n",
    "print(concept_matrix.shape)\n",
    "\n",
    "y = np.array([class_dict[label] for label in labels['label']])\n",
    "\n",
    "y_binary = tf.keras.utils.to_categorical(y, num_classes)\n",
    "print(y_binary.shape)\n",
    "\n",
    "train_test_split_point = 1700\n",
    "\n",
    "X_train0 = X[:train_test_split_point, :, :]\n",
    "y_train_binary = y_binary[:train_test_split_point, :]\n",
    "X_test0 = X[train_test_split_point:, :, :]\n",
    "y_test_binary = y_binary[train_test_split_point:, :]\n",
    "concept_train = concept_matrix[:train_test_split_point, :]\n",
    "concept_test = concept_matrix[train_test_split_point:, :]\n",
    "\n",
    "print(X_train0.shape)\n",
    "print(y_train_binary.shape)\n",
    "print(concept_train.shape)\n",
    "print(X_test0.shape)\n",
    "print(y_test_binary.shape)\n",
    "print(concept_test.shape)"
   ],
   "metadata": {
    "collapsed": false,
    "pycharm": {
     "name": "#%%\n"
    }
   }
  },
  {
   "cell_type": "code",
   "execution_count": 9,
   "outputs": [
    {
     "name": "stdout",
     "output_type": "stream",
     "text": [
      "Model: \"Video_concepts\"\n",
      "__________________________________________________________________________________________________\n",
      " Layer (type)                   Output Shape         Param #     Connected to                     \n",
      "==================================================================================================\n",
      " Input_1 (InputLayer)           [(None, 360, 2048)]  0           []                               \n",
      "                                                                                                  \n",
      " Conv_1 (Conv1D)                (None, 360, 64)      393280      ['Input_1[0][0]']                \n",
      "                                                                                                  \n",
      " Max_pool_1 (MaxPooling1D)      (None, 90, 64)       0           ['Conv_1[0][0]']                 \n",
      "                                                                                                  \n",
      " Bn_1 (BatchNormalization)      (None, 90, 64)       256         ['Max_pool_1[0][0]']             \n",
      "                                                                                                  \n",
      " Drop_1 (Dropout)               (None, 90, 64)       0           ['Bn_1[0][0]']                   \n",
      "                                                                                                  \n",
      " Conv_2 (Conv1D)                (None, 90, 16)       3088        ['Drop_1[0][0]']                 \n",
      "                                                                                                  \n",
      " Bn_2 (BatchNormalization)      (None, 90, 16)       64          ['Conv_2[0][0]']                 \n",
      "                                                                                                  \n",
      " Drop_2 (Dropout)               (None, 90, 16)       0           ['Bn_2[0][0]']                   \n",
      "                                                                                                  \n",
      " flatten (Flatten)              (None, 1440)         0           ['Drop_2[0][0]']                 \n",
      "                                                                                                  \n",
      " concept_logits (Dense)         (None, 78)           112398      ['flatten[0][0]']                \n",
      "                                                                                                  \n",
      " c_probs (Activation)           (None, 78)           0           ['concept_logits[0][0]']         \n",
      "                                                                                                  \n",
      " attention_weights (Dense)      (None, 78)           6162        ['c_probs[0][0]']                \n",
      "                                                                                                  \n",
      " attn_score (Activation)        (None, 78)           0           ['attention_weights[0][0]']      \n",
      "                                                                                                  \n",
      " mul (Multiply)                 (None, 78)           0           ['attn_score[0][0]',             \n",
      "                                                                  'c_probs[0][0]']                \n",
      "                                                                                                  \n",
      " logits (Dense)                 (None, 5)            395         ['mul[0][0]']                    \n",
      "                                                                                                  \n",
      " probs (Activation)             (None, 5)            0           ['logits[0][0]']                 \n",
      "                                                                                                  \n"
     ]
    },
    {
     "name": "stderr",
     "output_type": "stream",
     "text": [
      "2022-06-24 11:58:40.478193: W tensorflow/stream_executor/platform/default/dso_loader.cc:64] Could not load dynamic library 'libcuda.so.1'; dlerror: libcuda.so.1: cannot open shared object file: No such file or directory\n",
      "2022-06-24 11:58:40.478716: W tensorflow/stream_executor/cuda/cuda_driver.cc:269] failed call to cuInit: UNKNOWN ERROR (303)\n",
      "2022-06-24 11:58:40.479242: I tensorflow/stream_executor/cuda/cuda_diagnostics.cc:156] kernel driver does not appear to be running on this host (rp218-ThinkPad-T15-Gen-1): /proc/driver/nvidia/version does not exist\n",
      "2022-06-24 11:58:40.484815: I tensorflow/core/platform/cpu_feature_guard.cc:151] This TensorFlow binary is optimized with oneAPI Deep Neural Network Library (oneDNN) to use the following CPU instructions in performance-critical operations:  AVX2 FMA\n",
      "To enable them in other operations, rebuild TensorFlow with the appropriate compiler flags.\n"
     ]
    },
    {
     "name": "stdout",
     "output_type": "stream",
     "text": [
      "==================================================================================================\n",
      "Total params: 515,643\n",
      "Trainable params: 515,483\n",
      "Non-trainable params: 160\n",
      "__________________________________________________________________________________________________\n",
      "None\n"
     ]
    }
   ],
   "source": [
    "#Load BEST Trained Model\n",
    "model_id = \"1655200844\"\n",
    "model = load_model(model_dir + f'/best_concept_Conv_attn_{n_concepts}_{model_id}.h5')\n",
    "print(model.summary())"
   ],
   "metadata": {
    "collapsed": false,
    "pycharm": {
     "name": "#%%\n"
    }
   }
  },
  {
   "cell_type": "code",
   "execution_count": 10,
   "outputs": [
    {
     "name": "stderr",
     "output_type": "stream",
     "text": [
      "2022-06-24 11:58:40.824219: W tensorflow/core/framework/cpu_allocator_impl.cc:82] Allocation of 645857280 exceeds 10% of free system memory.\n",
      "2022-06-24 11:58:41.655558: W tensorflow/core/framework/cpu_allocator_impl.cc:82] Allocation of 94371840 exceeds 10% of free system memory.\n",
      "2022-06-24 11:58:41.655637: W tensorflow/core/framework/cpu_allocator_impl.cc:82] Allocation of 94371840 exceeds 10% of free system memory.\n",
      "2022-06-24 11:58:41.655661: W tensorflow/core/framework/cpu_allocator_impl.cc:82] Allocation of 94371840 exceeds 10% of free system memory.\n",
      "2022-06-24 11:58:41.655682: W tensorflow/core/framework/cpu_allocator_impl.cc:82] Allocation of 94371840 exceeds 10% of free system memory.\n"
     ]
    },
    {
     "name": "stdout",
     "output_type": "stream",
     "text": [
      "Accuracy : 0.9315068493150684\n",
      "F1-score : 0.9274226740850446\n",
      "['strike', 'ball', 'play', 'foul', 'out']\n",
      "[[38  3  1  0  0]\n",
      " [ 1 47  0  0  0]\n",
      " [ 0  0 61  0  1]\n",
      " [ 2  2  0 33  0]\n",
      " [ 0  0  5  0 25]]\n",
      "[[15830   873]\n",
      " [  285    94]]\n",
      "0.9322093431682473\n"
     ]
    }
   ],
   "source": [
    "network_type = 'concept_Conv_attn'\n",
    "\n",
    "if (network_type == 'Conv1D' or network_type == 'LSTM'):\n",
    "    cf_matrix, accuracy, macro_f1, mismatch, y_pred, = calculate_metrics(model, X_test0,\n",
    "                                                                         y_test_binary)\n",
    "    print('Accuracy : {}'.format(accuracy))\n",
    "    print('F1-score : {}'.format(macro_f1))\n",
    "    print(cf_matrix)\n",
    "\n",
    "else:\n",
    "    cf_matrix, accuracy, macro_f1, mismatch, y_pred, cf_concepts, accuracy_concepts = calculate_concept_metrics(model,\n",
    "                                                                                                                X_test0,\n",
    "                                                                                                                y_test_binary,\n",
    "                                                                                                                concept_test)\n",
    "\n",
    "    print('Accuracy : {}'.format(accuracy))\n",
    "    print('F1-score : {}'.format(macro_f1))\n",
    "    print(classes)\n",
    "    print(cf_matrix)\n",
    "    print(cf_concepts)\n",
    "    print(accuracy_concepts)\n"
   ],
   "metadata": {
    "collapsed": false,
    "pycharm": {
     "name": "#%%\n"
    }
   }
  },
  {
   "cell_type": "code",
   "execution_count": 11,
   "outputs": [
    {
     "name": "stdout",
     "output_type": "stream",
     "text": [
      "Evaluating:\n",
      "Row id SP7Y6KCFF2TD\n",
      "With label out\n",
      "And active concept explanations:\n",
      "            explanations\n",
      "27  Who caught the ball.\n",
      "(1, 360, 2048)\n"
     ]
    }
   ],
   "source": [
    "eval_idx = 0\n",
    "\n",
    "expected_concepts_idx = concept_matrix[eval_idx].astype(bool)\n",
    "X_eval = tf.expand_dims(X[eval_idx], axis=0)\n",
    "id_ = labels['id'][eval_idx]\n",
    "label = labels['label'][eval_idx]\n",
    "\n",
    "print(\"Evaluating:\")\n",
    "print(f\"Row id {id_}\")\n",
    "print(f\"With label {label}\")\n",
    "print(\"And active concept explanations:\")\n",
    "print(concepts_text[expected_concepts_idx])\n",
    "print(X_eval.shape)"
   ],
   "metadata": {
    "collapsed": false,
    "pycharm": {
     "name": "#%%\n"
    }
   }
  },
  {
   "cell_type": "code",
   "execution_count": 12,
   "outputs": [
    {
     "name": "stdout",
     "output_type": "stream",
     "text": [
      "Model returned label values [[0.03126197 0.03089079 0.33920693 0.04121688 0.5574235 ]]\n",
      "Predicted label out\n",
      "Model returned concept values [9.0890229e-03 6.3680476e-05 2.6383839e-05 9.6521866e-01 1.9639647e-05\n",
      " 1.3530254e-04 2.8763572e-05 7.2768329e-05 4.2170381e-05 7.9640895e-01\n",
      " 4.7829121e-02 2.4359256e-01 1.8143654e-04 4.3727319e-05 9.6751332e-01\n",
      " 9.8797774e-01 8.6506546e-02 8.1204772e-03 4.6365618e-05 6.4697862e-04\n",
      " 2.9112101e-03 8.7753332e-01 2.1720312e-05 6.1149993e-05 3.0358791e-01\n",
      " 3.6013126e-04 2.0789886e-01 2.4420738e-01 4.9181202e-05 3.5589933e-04\n",
      " 9.3104649e-01 4.6411584e-05 7.5052259e-05 8.4578496e-05 1.7411292e-01\n",
      " 8.8996589e-03 5.7676435e-03 2.6261508e-03 1.0947287e-03 1.9651376e-05\n",
      " 4.0447712e-04 4.3812394e-04 8.1198812e-03 1.9812584e-04 1.0809143e-06\n",
      " 4.0526778e-02 9.6351505e-06 1.7902255e-04 1.3799991e-05 3.7279725e-04\n",
      " 5.1471591e-04 1.0628998e-03 7.5526536e-06 9.4205907e-06 3.2776177e-02\n",
      " 1.1704191e-04 4.2235242e-06 1.5142560e-04 1.1805678e-04 6.6835863e-05\n",
      " 5.1721036e-03 1.4138407e-01 7.3896437e-05 2.2879243e-04 2.2149086e-04\n",
      " 1.8510222e-04 5.2178890e-02 1.7476082e-04 2.0390749e-04 1.1987925e-05\n",
      " 2.4996016e-05 8.7035085e-05 1.2657940e-03 4.6332199e-05 6.1760858e-07\n",
      " 4.9926612e-06 1.3255738e-05 1.6928315e-03]\n",
      "Model predicted concept explanations:\n",
      "                                    explanations\n",
      "3                                 It was caught.\n",
      "9   The batter hit the ball into foul territory.\n",
      "14      The batter hit the ball for a foul ball.\n",
      "15                             The ball was hit.\n",
      "21                                The ball went.\n",
      "30                                The pitch was.\n",
      "\n"
     ]
    }
   ],
   "source": [
    "concept_preds, label_preds = model.predict(X_eval)\n",
    "print(f\"Model returned label values {label_preds}\")\n",
    "pred_label = np.argmax(label_preds)\n",
    "print(f\"Predicted label {inv_class_dict[pred_label]}\")\n",
    "\n",
    "concept_preds = concept_preds.flatten()\n",
    "print(f\"Model returned concept values {concept_preds}\")\n",
    "concept_preds[concept_preds <= 0.5] = 0\n",
    "concept_preds[concept_preds > 0.5] = 1\n",
    "concept_preds = concept_preds.astype(bool)\n",
    "print(\"Model predicted concept explanations:\")\n",
    "print(concepts_text[concept_preds])\n",
    "\n",
    "print()"
   ],
   "metadata": {
    "collapsed": false,
    "pycharm": {
     "name": "#%%\n"
    }
   }
  },
  {
   "cell_type": "markdown",
   "source": [
    "### Get probability vectors from all probability samples"
   ],
   "metadata": {
    "collapsed": false,
    "pycharm": {
     "name": "#%% md\n"
    }
   }
  },
  {
   "cell_type": "code",
   "execution_count": 13,
   "outputs": [],
   "source": [
    "# model_ids = ['1655195211']\n",
    "# test_id = 0\n",
    "# explanations = concepts_text['explanations'].values\n",
    "# print(explanations)\n",
    "#\n",
    "# for i, model_id in enumerate(model_ids):\n",
    "#     model = load_model(model_dir + f'/best_concept_Conv_attn_{n_concepts}_{model_id}.h5')\n",
    "#     output = attn_prediction(model, X_train0)\n",
    "#     print(output[0])\n",
    "#     preds = output[0]\n",
    "#     preds[preds >= 0.5] = 1\n",
    "#     preds[preds < 0.5] = 0\n",
    "#     print(preds)\n",
    "#     print(np.nonzero(preds))\n",
    "#"
   ],
   "metadata": {
    "collapsed": false,
    "pycharm": {
     "name": "#%%\n"
    }
   }
  },
  {
   "cell_type": "code",
   "execution_count": 14,
   "outputs": [],
   "source": [
    "# preds = output[test_id]\n",
    "# preds[preds >= 0.5] = 1\n",
    "# preds[preds < 0.5] = 0\n",
    "# preds = preds.astype(bool)\n",
    "# print(f\"Explanations found {explanations[preds]}\")\n",
    "# X_visualize = X_train0[test_id]\n",
    "#\n",
    "# pred, pred_label, pred_concepts, pred_attn = visualize_concepts(X_visualize, model,\n",
    "#                                                                 explanations, inv_class_dict)\n",
    "#\n",
    "# print(output.shape)\n",
    "# print(output)\n",
    "#"
   ],
   "metadata": {
    "collapsed": false,
    "pycharm": {
     "name": "#%%\n"
    }
   }
  },
  {
   "cell_type": "code",
   "execution_count": 25,
   "outputs": [
    {
     "name": "stdout",
     "output_type": "stream",
     "text": [
      "Iteration 0\n",
      "Iteration 1\n",
      "Iteration 2\n",
      "Iteration 3\n",
      "Iteration 4\n",
      "Iteration 5\n",
      "Iteration 6\n",
      "Iteration 7\n",
      "Iteration 8\n",
      "Iteration 9\n"
     ]
    }
   ],
   "source": [
    "import os\n",
    "clear_session()\n",
    "model_ids = ['1655195211', '1655195642', '1655196032', '1655196419', '1655196803', '1655197228', '1655197609',\n",
    "             '1655197990', '1655198373', '1655198758']\n",
    "# model_ids = ['1655196419', '1655196803', '1655197228', '1655197609',\n",
    "#              '1655197990', '1655198373', '1655198758']\n",
    "offset = 0\n",
    "\n",
    "for i, model_id in enumerate(model_ids):\n",
    "    with tf.device(\"/cpu:0\"):\n",
    "        model = load_model(model_dir + f'/best_concept_Conv_attn_{n_concepts}_{model_id}.h5')\n",
    "        i_prime = i + offset\n",
    "        print(f\"Iteration {i}\")\n",
    "\n",
    "        true_train_labels = labels[\"label\"][:train_test_split_point].values\n",
    "        concept_preds, _ = model.predict(X_train0)\n",
    "        output = get_concept_vector_dict(concepts_text[\"explanations\"].values, concept_preds, true_train_labels)\n",
    "        pickle.dump(output, open(f\"for_fastlas_examples_train_{i_prime}.pkl\", 'wb'))\n",
    "\n",
    "        true_test_labels = labels[\"label\"][train_test_split_point:].values\n",
    "        concept_preds, _ = model.predict(X_test0)\n",
    "        output = get_concept_vector_dict(concepts_text[\"explanations\"].values, concept_preds, true_test_labels)\n",
    "        pickle.dump(output, open(f\"for_fastlas_examples_test_{i_prime}.pkl\", 'wb'))\n",
    "\n",
    "        # concept_preds = attn_prediction(model, X_train0)\n",
    "        # output = get_concept_vector_dict(concept_preds, true_train_labels)\n",
    "        # pickle.dump(output, open(f\"for_fastlas_examples_train_attn_{i_prime}.pkl\", 'wb'))\n",
    "        #\n",
    "        #\n",
    "        # concept_preds = attn_prediction(model, X_test0)\n",
    "        # output = get_concept_vector_dict(concept_preds, true_test_labels)\n",
    "        # pickle.dump(output, open(f\"for_fastlas_examples_test_attn_{i_prime}.pkl\", 'wb'))\n",
    "\n",
    "        del model\n",
    "        clear_session()\n"
   ],
   "metadata": {
    "collapsed": false,
    "pycharm": {
     "name": "#%%\n"
    }
   }
  },
  {
   "cell_type": "code",
   "execution_count": null,
   "outputs": [],
   "source": [
    "pickle.load(open(\"for_fastlas_examples_train_0.pkl\", 'rb'))"
   ],
   "metadata": {
    "collapsed": false,
    "pycharm": {
     "name": "#%%\n"
    }
   }
  }
 ],
 "metadata": {
  "kernelspec": {
   "display_name": "Python 3",
   "language": "python",
   "name": "python3"
  },
  "language_info": {
   "codemirror_mode": {
    "name": "ipython",
    "version": 2
   },
   "file_extension": ".py",
   "mimetype": "text/x-python",
   "name": "python",
   "nbconvert_exporter": "python",
   "pygments_lexer": "ipython2",
   "version": "2.7.6"
  }
 },
 "nbformat": 4,
 "nbformat_minor": 0
}